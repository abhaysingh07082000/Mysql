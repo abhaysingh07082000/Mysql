{
 "cells": [
  {
   "cell_type": "markdown",
   "id": "00cb8477-2a38-48d5-afe4-e6102cb4fb3e",
   "metadata": {},
   "source": [
    "Q1. What is a database? Differentiate between SQL and NoSQL databases."
   ]
  },
  {
   "cell_type": "markdown",
   "id": "19e3cca8-5504-4bd5-ba96-1c4b93a2a9c1",
   "metadata": {},
   "source": [
    "Database is a platform which is used to store the data in any form means structured or unstructured data.\n",
    "\n",
    "SQL means structure query language-which means we store the data in a structure form like we first define the strucutre of the table \n",
    "then we store the data into the tables.\n",
    "Sql databases-SQl server,Mysql etc.\n",
    "\n",
    "Nosql- In this we need not to define the structure of the data, we can store the data in any form like text,videos and images etc.\n",
    "Nosql databases-MongoDb"
   ]
  },
  {
   "cell_type": "markdown",
   "id": "45c79543-3834-4630-96fe-62f100c16a7a",
   "metadata": {},
   "source": [
    "Q2. What is DDL? Explain why CREATE, DROP, ALTER, and TRUNCATE are used with an example."
   ]
  },
  {
   "cell_type": "markdown",
   "id": "a08bd136-ce95-43f1-98d1-81f2c305db2a",
   "metadata": {},
   "source": [
    "DDL-It means data definiton language which means we defoine the definition of the data or set the structure of the data.\n",
    "Create is used to create a strucuture of the tables/schemas/views/indexes etc.\n",
    "\n",
    "Ex-create table abhay(id int,name varchar(2))\n",
    "\n",
    "Drop is used to drop/delete the table/view/schema etc.\n",
    "\n",
    "Ex=Drop table abhay;\n",
    "\n",
    "Alter is used to change the name of the tables/views/indexes/schemas etc.\n",
    "Ex-\n",
    "Alter table abhay to abhay1\n",
    "\n",
    "Truncate is used to clean the table but keep the structure of the table.\n",
    "Ex-\n",
    "Trucnate table abhay"
   ]
  },
  {
   "cell_type": "markdown",
   "id": "194df284-f017-4e70-b0fe-e0dffd7fcb97",
   "metadata": {},
   "source": [
    "Q3. What is DML? Explain INSERT, UPDATE, and DELETE with an example."
   ]
  },
  {
   "cell_type": "markdown",
   "id": "9b950357-c32c-4d54-a4b0-619ba22594bd",
   "metadata": {},
   "source": [
    "DML-it means Data Manipulation Language that is we access the data from different structures may be tables,views or schemas.\n",
    "Insert is used to insert the data into the table.\n",
    "Ex-\n",
    "    insert into abhay values(1,\"abhaysingh\");\n",
    "\n",
    "Update is used to update any field of the table.\n",
    "Ex-\n",
    "    Update abhay set name=\"abhaysinghrajpoot\" where id =1;\n",
    "Delete is used to delete the records of the table.\n",
    "Ex-\n",
    "delete from abhay where id =1;\n",
    "    "
   ]
  },
  {
   "cell_type": "markdown",
   "id": "5f539324-6d3d-499e-b16b-56bc93facb73",
   "metadata": {},
   "source": [
    "Q4. What is DQL? Explain SELECT with an example."
   ]
  },
  {
   "cell_type": "markdown",
   "id": "8f4f50b3-4cc2-4588-b4c1-3011a7c7db20",
   "metadata": {},
   "source": [
    "DQL-it means data query language which is used to fetch out the records from the table\n",
    "Select is used to fetch the records from the table based on the certain condition or not.\n",
    "\n",
    "    Ex-Select * from abhay;"
   ]
  },
  {
   "cell_type": "markdown",
   "id": "12b23f1b-6936-4625-857b-04a1ecab821b",
   "metadata": {},
   "source": [
    "Q5. Explain Primary Key and Foreign Key."
   ]
  },
  {
   "cell_type": "markdown",
   "id": "59a9a168-d2b6-404b-ae64-54c932c2c674",
   "metadata": {},
   "source": [
    "Primary key is the key constraint in the table which is uniquly identify the records of the tables.It unique and only one for one table,\n",
    "and can be create by a single column or multiple columns.\n",
    "\n",
    "Foreign Key -A foreign key is a column or a set of columns in one table that uniquely identifies a row in another table. \n",
    "It establishes a relationship between two tables by enforcing referential integrity."
   ]
  },
  {
   "cell_type": "markdown",
   "id": "8773698c-950b-4fdd-a639-f45ee7f4a95e",
   "metadata": {},
   "source": [
    "Q6. Write a python code to connect MySQL to python. Explain the cursor() and execute() method."
   ]
  },
  {
   "cell_type": "markdown",
   "id": "f6f328b1-f48b-4ed9-8e6e-ff022a175e37",
   "metadata": {},
   "source": [
    "First we install-mysql connector using below command-\n",
    "1.Install the MySQL Connector\n",
    "\n",
    "2.Connect to MySQL and Execute Queries-\n",
    "\n",
    "import mysql.connector\n",
    "\n",
    "# Connect to MySQL database\n",
    "conn = mysql.connector.connect(\n",
    "    host='localhost',      # Your MySQL host\n",
    "    user='abhay',   # Your MySQL username\n",
    "    password='root', # Your MySQL password\n",
    "    database='abhay'  # Your MySQL database name\n",
    ")\n",
    "\n",
    "# Create a cursor object using the cursor() method\n",
    "cursor = conn.cursor()\n",
    "\n",
    "# Create a table\n",
    "create_table_query ='''\n",
    "CREATE TABLE IF NOT EXISTS Employees (\n",
    "    EmployeeID INT AUTO_INCREMENT PRIMARY KEY,\n",
    "    FirstName VARCHAR(50),\n",
    "    LastName VARCHAR(50),\n",
    "    HireDate DATE\n",
    ")'''\n",
    "cursor.execute(create_table_query)\n",
    "\n",
    "# Insert data into the table\n",
    "insert_data_query = '''\n",
    "INSERT INTO Employees (FirstName, LastName, HireDate)\n",
    "VALUES (%s, %s, %s)\n",
    "'''\n",
    "data = ('John', 'Doe', '2024-08-01')\n",
    "cursor.execute(insert_data_query, data)\n",
    "\n",
    "# Commit the transaction\n",
    "conn.commit()\n",
    "\n",
    "# Query the data\n",
    "cursor.execute('SELECT * FROM Employees')\n",
    "rows = cursor.fetchall()\n",
    "for row in rows:\n",
    "    print(row)\n",
    "\n",
    "# Close the cursor and connection\n",
    "cursor.close()\n",
    "conn.close()\n"
   ]
  },
  {
   "cell_type": "markdown",
   "id": "872fd821-8b74-4e12-a5a0-2938ca9a6fd1",
   "metadata": {},
   "source": [
    "\n",
    "cursor() Method: The cursor() method creates a new cursor object which is used to interact with the MySQL database.\n",
    "The cursor is used to execute SQL queries and fetch results."
   ]
  },
  {
   "cell_type": "markdown",
   "id": "6de9bf63-9413-48af-81cf-7298248e1d67",
   "metadata": {},
   "source": [
    "execute() Method: The execute() method executes a given SQL statement. It can be used for various SQL commands like creating tables, \n",
    "inserting data, or querying data."
   ]
  },
  {
   "cell_type": "markdown",
   "id": "f59adbb2-3ca5-4890-a9f8-a581e0a3036a",
   "metadata": {},
   "source": [
    "Q7. Give the order of execution of SQL clauses in an SQL query."
   ]
  },
  {
   "cell_type": "markdown",
   "id": "e807c7f3-4dcf-49a1-82af-35c3a0b22440",
   "metadata": {},
   "source": [
    "Execution Order\n",
    "\n",
    "1.FROM: table1 and table2 are identified and joined based on ON table1.id = table2.id.\n",
    "2.ON: Specifies the join condition between table1 and table2.\n",
    "3.JOIN: The rows from table1 and table2 are combined according to the join condition.\n",
    "4.WHERE: Filters the combined rows to include only those where column1 > 10.\n",
    "5.GROUP BY: Groups the remaining rows by column1.\n",
    "6.HAVING: Filters these groups to include only those where the count is greater than 5.\n",
    "7.SELECT: Specifies column1 and the count of rows as the result set columns.\n",
    "8.DISTINCT: (if used) would remove duplicate rows from the result set.\n",
    "9.ORDER BY: Orders the result set by column1 in descending order.\n",
    "10..LIMIT: Restricts the result set to the first 10 rows."
   ]
  },
  {
   "cell_type": "code",
   "execution_count": null,
   "id": "b3841bfa-987f-4477-97ac-8f8a5a867a1b",
   "metadata": {},
   "outputs": [],
   "source": []
  }
 ],
 "metadata": {
  "kernelspec": {
   "display_name": "Python 3 (ipykernel)",
   "language": "python",
   "name": "python3"
  },
  "language_info": {
   "codemirror_mode": {
    "name": "ipython",
    "version": 3
   },
   "file_extension": ".py",
   "mimetype": "text/x-python",
   "name": "python",
   "nbconvert_exporter": "python",
   "pygments_lexer": "ipython3",
   "version": "3.12.4"
  }
 },
 "nbformat": 4,
 "nbformat_minor": 5
}
